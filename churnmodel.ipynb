{
 "cells": [
  {
   "cell_type": "code",
   "execution_count": 17,
   "metadata": {
    "id": "XeSEwWoaXkLQ"
   },
   "outputs": [],
   "source": [
    "import pandas as pd\n",
    "import numpy as np\n",
    "df=pd.read_csv(\"Churn_Modelling.csv\")\n"
   ]
  },
  {
   "cell_type": "code",
   "execution_count": 18,
   "metadata": {},
   "outputs": [
    {
     "data": {
      "text/html": [
       "<div>\n",
       "<style scoped>\n",
       "    .dataframe tbody tr th:only-of-type {\n",
       "        vertical-align: middle;\n",
       "    }\n",
       "\n",
       "    .dataframe tbody tr th {\n",
       "        vertical-align: top;\n",
       "    }\n",
       "\n",
       "    .dataframe thead th {\n",
       "        text-align: right;\n",
       "    }\n",
       "</style>\n",
       "<table border=\"1\" class=\"dataframe\">\n",
       "  <thead>\n",
       "    <tr style=\"text-align: right;\">\n",
       "      <th></th>\n",
       "      <th>RowNumber</th>\n",
       "      <th>CustomerId</th>\n",
       "      <th>Surname</th>\n",
       "      <th>CreditScore</th>\n",
       "      <th>Geography</th>\n",
       "      <th>Gender</th>\n",
       "      <th>Age</th>\n",
       "      <th>Tenure</th>\n",
       "      <th>Balance</th>\n",
       "      <th>NumOfProducts</th>\n",
       "      <th>HasCrCard</th>\n",
       "      <th>IsActiveMember</th>\n",
       "      <th>EstimatedSalary</th>\n",
       "      <th>Exited</th>\n",
       "    </tr>\n",
       "  </thead>\n",
       "  <tbody>\n",
       "    <tr>\n",
       "      <th>0</th>\n",
       "      <td>1</td>\n",
       "      <td>15634602</td>\n",
       "      <td>Hargrave</td>\n",
       "      <td>619</td>\n",
       "      <td>France</td>\n",
       "      <td>Female</td>\n",
       "      <td>42</td>\n",
       "      <td>2</td>\n",
       "      <td>0.00</td>\n",
       "      <td>1</td>\n",
       "      <td>1</td>\n",
       "      <td>1</td>\n",
       "      <td>101348.88</td>\n",
       "      <td>1</td>\n",
       "    </tr>\n",
       "    <tr>\n",
       "      <th>1</th>\n",
       "      <td>2</td>\n",
       "      <td>15647311</td>\n",
       "      <td>Hill</td>\n",
       "      <td>608</td>\n",
       "      <td>Spain</td>\n",
       "      <td>Female</td>\n",
       "      <td>41</td>\n",
       "      <td>1</td>\n",
       "      <td>83807.86</td>\n",
       "      <td>1</td>\n",
       "      <td>0</td>\n",
       "      <td>1</td>\n",
       "      <td>112542.58</td>\n",
       "      <td>0</td>\n",
       "    </tr>\n",
       "    <tr>\n",
       "      <th>2</th>\n",
       "      <td>3</td>\n",
       "      <td>15619304</td>\n",
       "      <td>Onio</td>\n",
       "      <td>502</td>\n",
       "      <td>France</td>\n",
       "      <td>Female</td>\n",
       "      <td>42</td>\n",
       "      <td>8</td>\n",
       "      <td>159660.80</td>\n",
       "      <td>3</td>\n",
       "      <td>1</td>\n",
       "      <td>0</td>\n",
       "      <td>113931.57</td>\n",
       "      <td>1</td>\n",
       "    </tr>\n",
       "    <tr>\n",
       "      <th>3</th>\n",
       "      <td>4</td>\n",
       "      <td>15701354</td>\n",
       "      <td>Boni</td>\n",
       "      <td>699</td>\n",
       "      <td>France</td>\n",
       "      <td>Female</td>\n",
       "      <td>39</td>\n",
       "      <td>1</td>\n",
       "      <td>0.00</td>\n",
       "      <td>2</td>\n",
       "      <td>0</td>\n",
       "      <td>0</td>\n",
       "      <td>93826.63</td>\n",
       "      <td>0</td>\n",
       "    </tr>\n",
       "    <tr>\n",
       "      <th>4</th>\n",
       "      <td>5</td>\n",
       "      <td>15737888</td>\n",
       "      <td>Mitchell</td>\n",
       "      <td>850</td>\n",
       "      <td>Spain</td>\n",
       "      <td>Female</td>\n",
       "      <td>43</td>\n",
       "      <td>2</td>\n",
       "      <td>125510.82</td>\n",
       "      <td>1</td>\n",
       "      <td>1</td>\n",
       "      <td>1</td>\n",
       "      <td>79084.10</td>\n",
       "      <td>0</td>\n",
       "    </tr>\n",
       "  </tbody>\n",
       "</table>\n",
       "</div>"
      ],
      "text/plain": [
       "   RowNumber  CustomerId   Surname  CreditScore Geography  Gender  Age  \\\n",
       "0          1    15634602  Hargrave          619    France  Female   42   \n",
       "1          2    15647311      Hill          608     Spain  Female   41   \n",
       "2          3    15619304      Onio          502    France  Female   42   \n",
       "3          4    15701354      Boni          699    France  Female   39   \n",
       "4          5    15737888  Mitchell          850     Spain  Female   43   \n",
       "\n",
       "   Tenure    Balance  NumOfProducts  HasCrCard  IsActiveMember  \\\n",
       "0       2       0.00              1          1               1   \n",
       "1       1   83807.86              1          0               1   \n",
       "2       8  159660.80              3          1               0   \n",
       "3       1       0.00              2          0               0   \n",
       "4       2  125510.82              1          1               1   \n",
       "\n",
       "   EstimatedSalary  Exited  \n",
       "0        101348.88       1  \n",
       "1        112542.58       0  \n",
       "2        113931.57       1  \n",
       "3         93826.63       0  \n",
       "4         79084.10       0  "
      ]
     },
     "execution_count": 18,
     "metadata": {},
     "output_type": "execute_result"
    }
   ],
   "source": [
    "df.head()"
   ]
  },
  {
   "cell_type": "code",
   "execution_count": 19,
   "metadata": {
    "id": "DvYAWQW4X3ff"
   },
   "outputs": [],
   "source": [
    "x=df.iloc[:,3:13]\n",
    "\n",
    "y=df.iloc[:,13]"
   ]
  },
  {
   "cell_type": "code",
   "execution_count": 20,
   "metadata": {},
   "outputs": [
    {
     "data": {
      "text/html": [
       "<div>\n",
       "<style scoped>\n",
       "    .dataframe tbody tr th:only-of-type {\n",
       "        vertical-align: middle;\n",
       "    }\n",
       "\n",
       "    .dataframe tbody tr th {\n",
       "        vertical-align: top;\n",
       "    }\n",
       "\n",
       "    .dataframe thead th {\n",
       "        text-align: right;\n",
       "    }\n",
       "</style>\n",
       "<table border=\"1\" class=\"dataframe\">\n",
       "  <thead>\n",
       "    <tr style=\"text-align: right;\">\n",
       "      <th></th>\n",
       "      <th>CreditScore</th>\n",
       "      <th>Geography</th>\n",
       "      <th>Gender</th>\n",
       "      <th>Age</th>\n",
       "      <th>Tenure</th>\n",
       "      <th>Balance</th>\n",
       "      <th>NumOfProducts</th>\n",
       "      <th>HasCrCard</th>\n",
       "      <th>IsActiveMember</th>\n",
       "      <th>EstimatedSalary</th>\n",
       "    </tr>\n",
       "  </thead>\n",
       "  <tbody>\n",
       "    <tr>\n",
       "      <th>0</th>\n",
       "      <td>619</td>\n",
       "      <td>France</td>\n",
       "      <td>Female</td>\n",
       "      <td>42</td>\n",
       "      <td>2</td>\n",
       "      <td>0.00</td>\n",
       "      <td>1</td>\n",
       "      <td>1</td>\n",
       "      <td>1</td>\n",
       "      <td>101348.88</td>\n",
       "    </tr>\n",
       "    <tr>\n",
       "      <th>1</th>\n",
       "      <td>608</td>\n",
       "      <td>Spain</td>\n",
       "      <td>Female</td>\n",
       "      <td>41</td>\n",
       "      <td>1</td>\n",
       "      <td>83807.86</td>\n",
       "      <td>1</td>\n",
       "      <td>0</td>\n",
       "      <td>1</td>\n",
       "      <td>112542.58</td>\n",
       "    </tr>\n",
       "    <tr>\n",
       "      <th>2</th>\n",
       "      <td>502</td>\n",
       "      <td>France</td>\n",
       "      <td>Female</td>\n",
       "      <td>42</td>\n",
       "      <td>8</td>\n",
       "      <td>159660.80</td>\n",
       "      <td>3</td>\n",
       "      <td>1</td>\n",
       "      <td>0</td>\n",
       "      <td>113931.57</td>\n",
       "    </tr>\n",
       "    <tr>\n",
       "      <th>3</th>\n",
       "      <td>699</td>\n",
       "      <td>France</td>\n",
       "      <td>Female</td>\n",
       "      <td>39</td>\n",
       "      <td>1</td>\n",
       "      <td>0.00</td>\n",
       "      <td>2</td>\n",
       "      <td>0</td>\n",
       "      <td>0</td>\n",
       "      <td>93826.63</td>\n",
       "    </tr>\n",
       "    <tr>\n",
       "      <th>4</th>\n",
       "      <td>850</td>\n",
       "      <td>Spain</td>\n",
       "      <td>Female</td>\n",
       "      <td>43</td>\n",
       "      <td>2</td>\n",
       "      <td>125510.82</td>\n",
       "      <td>1</td>\n",
       "      <td>1</td>\n",
       "      <td>1</td>\n",
       "      <td>79084.10</td>\n",
       "    </tr>\n",
       "  </tbody>\n",
       "</table>\n",
       "</div>"
      ],
      "text/plain": [
       "   CreditScore Geography  Gender  Age  Tenure    Balance  NumOfProducts  \\\n",
       "0          619    France  Female   42       2       0.00              1   \n",
       "1          608     Spain  Female   41       1   83807.86              1   \n",
       "2          502    France  Female   42       8  159660.80              3   \n",
       "3          699    France  Female   39       1       0.00              2   \n",
       "4          850     Spain  Female   43       2  125510.82              1   \n",
       "\n",
       "   HasCrCard  IsActiveMember  EstimatedSalary  \n",
       "0          1               1        101348.88  \n",
       "1          0               1        112542.58  \n",
       "2          1               0        113931.57  \n",
       "3          0               0         93826.63  \n",
       "4          1               1         79084.10  "
      ]
     },
     "execution_count": 20,
     "metadata": {},
     "output_type": "execute_result"
    }
   ],
   "source": [
    "x.head()"
   ]
  },
  {
   "cell_type": "code",
   "execution_count": 21,
   "metadata": {},
   "outputs": [
    {
     "data": {
      "text/plain": [
       "(10000, 10)"
      ]
     },
     "execution_count": 21,
     "metadata": {},
     "output_type": "execute_result"
    }
   ],
   "source": [
    "x.shape"
   ]
  },
  {
   "cell_type": "code",
   "execution_count": 6,
   "metadata": {},
   "outputs": [
    {
     "data": {
      "text/plain": [
       "0    1\n",
       "1    0\n",
       "2    1\n",
       "3    0\n",
       "4    0\n",
       "Name: Exited, dtype: int64"
      ]
     },
     "execution_count": 6,
     "metadata": {},
     "output_type": "execute_result"
    }
   ],
   "source": [
    "y.head()"
   ]
  },
  {
   "cell_type": "code",
   "execution_count": 7,
   "metadata": {
    "id": "j6G6TFKQYHU-"
   },
   "outputs": [],
   "source": [
    "geography=pd.get_dummies(x['Geography'],drop_first=True)\n",
    "gender=pd.get_dummies(x[\"Gender\"],drop_first=True)"
   ]
  },
  {
   "cell_type": "code",
   "execution_count": 8,
   "metadata": {
    "id": "TY1E1NpsYLdo"
   },
   "outputs": [],
   "source": [
    "x=pd.concat([x,geography,gender],axis=1)\n",
    "x=x.drop(['Geography','Gender'],axis=1)"
   ]
  },
  {
   "cell_type": "code",
   "execution_count": 9,
   "metadata": {},
   "outputs": [
    {
     "data": {
      "text/plain": [
       "(10000, 11)"
      ]
     },
     "execution_count": 9,
     "metadata": {},
     "output_type": "execute_result"
    }
   ],
   "source": [
    "x.shape"
   ]
  },
  {
   "cell_type": "code",
   "execution_count": 10,
   "metadata": {},
   "outputs": [
    {
     "data": {
      "text/plain": [
       "(10000,)"
      ]
     },
     "execution_count": 10,
     "metadata": {},
     "output_type": "execute_result"
    }
   ],
   "source": [
    "y.shape"
   ]
  },
  {
   "cell_type": "code",
   "execution_count": 11,
   "metadata": {
    "id": "w0kltNJcYQRj"
   },
   "outputs": [],
   "source": [
    "from sklearn.model_selection import train_test_split\n",
    "x_train,x_test,y_train,y_test=train_test_split(x,y,test_size=0.3,random_state=0)"
   ]
  },
  {
   "cell_type": "code",
   "execution_count": 12,
   "metadata": {
    "id": "I7tnSKQsYaBy"
   },
   "outputs": [],
   "source": [
    "import keras\n",
    "from keras.models import Sequential\n",
    "from keras.layers import Dense\n",
    "from keras.layers import LeakyReLU,PReLU,ELU\n",
    "from keras.layers import Dropout"
   ]
  },
  {
   "cell_type": "code",
   "execution_count": 13,
   "metadata": {},
   "outputs": [
    {
     "data": {
      "text/html": [
       "<div>\n",
       "<style scoped>\n",
       "    .dataframe tbody tr th:only-of-type {\n",
       "        vertical-align: middle;\n",
       "    }\n",
       "\n",
       "    .dataframe tbody tr th {\n",
       "        vertical-align: top;\n",
       "    }\n",
       "\n",
       "    .dataframe thead th {\n",
       "        text-align: right;\n",
       "    }\n",
       "</style>\n",
       "<table border=\"1\" class=\"dataframe\">\n",
       "  <thead>\n",
       "    <tr style=\"text-align: right;\">\n",
       "      <th></th>\n",
       "      <th>CreditScore</th>\n",
       "      <th>Age</th>\n",
       "      <th>Tenure</th>\n",
       "      <th>Balance</th>\n",
       "      <th>NumOfProducts</th>\n",
       "      <th>HasCrCard</th>\n",
       "      <th>IsActiveMember</th>\n",
       "      <th>EstimatedSalary</th>\n",
       "      <th>Germany</th>\n",
       "      <th>Spain</th>\n",
       "      <th>Male</th>\n",
       "    </tr>\n",
       "  </thead>\n",
       "  <tbody>\n",
       "    <tr>\n",
       "      <th>9394</th>\n",
       "      <td>597</td>\n",
       "      <td>35</td>\n",
       "      <td>8</td>\n",
       "      <td>131101.04</td>\n",
       "      <td>1</td>\n",
       "      <td>1</td>\n",
       "      <td>1</td>\n",
       "      <td>192852.67</td>\n",
       "      <td>1</td>\n",
       "      <td>0</td>\n",
       "      <td>0</td>\n",
       "    </tr>\n",
       "    <tr>\n",
       "      <th>898</th>\n",
       "      <td>523</td>\n",
       "      <td>40</td>\n",
       "      <td>2</td>\n",
       "      <td>102967.41</td>\n",
       "      <td>1</td>\n",
       "      <td>1</td>\n",
       "      <td>0</td>\n",
       "      <td>128702.10</td>\n",
       "      <td>0</td>\n",
       "      <td>0</td>\n",
       "      <td>0</td>\n",
       "    </tr>\n",
       "    <tr>\n",
       "      <th>2398</th>\n",
       "      <td>706</td>\n",
       "      <td>42</td>\n",
       "      <td>8</td>\n",
       "      <td>95386.82</td>\n",
       "      <td>1</td>\n",
       "      <td>1</td>\n",
       "      <td>1</td>\n",
       "      <td>75732.25</td>\n",
       "      <td>0</td>\n",
       "      <td>1</td>\n",
       "      <td>0</td>\n",
       "    </tr>\n",
       "    <tr>\n",
       "      <th>5906</th>\n",
       "      <td>788</td>\n",
       "      <td>32</td>\n",
       "      <td>4</td>\n",
       "      <td>112079.58</td>\n",
       "      <td>1</td>\n",
       "      <td>0</td>\n",
       "      <td>0</td>\n",
       "      <td>89368.59</td>\n",
       "      <td>0</td>\n",
       "      <td>0</td>\n",
       "      <td>1</td>\n",
       "    </tr>\n",
       "    <tr>\n",
       "      <th>2343</th>\n",
       "      <td>706</td>\n",
       "      <td>38</td>\n",
       "      <td>5</td>\n",
       "      <td>163034.82</td>\n",
       "      <td>2</td>\n",
       "      <td>1</td>\n",
       "      <td>1</td>\n",
       "      <td>135662.17</td>\n",
       "      <td>1</td>\n",
       "      <td>0</td>\n",
       "      <td>1</td>\n",
       "    </tr>\n",
       "  </tbody>\n",
       "</table>\n",
       "</div>"
      ],
      "text/plain": [
       "      CreditScore  Age  Tenure    Balance  NumOfProducts  HasCrCard  \\\n",
       "9394          597   35       8  131101.04              1          1   \n",
       "898           523   40       2  102967.41              1          1   \n",
       "2398          706   42       8   95386.82              1          1   \n",
       "5906          788   32       4  112079.58              1          0   \n",
       "2343          706   38       5  163034.82              2          1   \n",
       "\n",
       "      IsActiveMember  EstimatedSalary  Germany  Spain  Male  \n",
       "9394               1        192852.67        1      0     0  \n",
       "898                0        128702.10        0      0     0  \n",
       "2398               1         75732.25        0      1     0  \n",
       "5906               0         89368.59        0      0     1  \n",
       "2343               1        135662.17        1      0     1  "
      ]
     },
     "execution_count": 13,
     "metadata": {},
     "output_type": "execute_result"
    }
   ],
   "source": [
    "x_test.head()"
   ]
  },
  {
   "cell_type": "code",
   "execution_count": 15,
   "metadata": {},
   "outputs": [
    {
     "data": {
      "text/plain": [
       "(3000, 11)"
      ]
     },
     "execution_count": 15,
     "metadata": {},
     "output_type": "execute_result"
    }
   ],
   "source": [
    "x_test.shape"
   ]
  },
  {
   "cell_type": "code",
   "execution_count": 16,
   "metadata": {
    "id": "RLEVTINQYdYK"
   },
   "outputs": [],
   "source": [
    "\n",
    "classifier=Sequential()\n",
    "classifier.add(Dense(units=6,batch_size=32,kernel_initializer='he_uniform',activation='relu'))\n",
    "classifier.add(Dense(units=6,kernel_initializer='he_uniform',activation='relu'))\n",
    "classifier.add(Dense(units=1,kernel_initializer='glorot_uniform',activation='sigmoid'))\n",
    "classifier.compile(optimizer='Adamax',loss='binary_crossentropy',metrics=['accuracy'])"
   ]
  },
  {
   "cell_type": "code",
   "execution_count": 17,
   "metadata": {
    "colab": {
     "base_uri": "https://localhost:8080/"
    },
    "id": "g4V3qEF9Yh_a",
    "outputId": "93c38c8b-30ed-49db-fd13-05594389a846"
   },
   "outputs": [
    {
     "name": "stdout",
     "output_type": "stream",
     "text": [
      "Epoch 1/100\n",
      "469/469 [==============================] - 3s 4ms/step - loss: 0.5968 - accuracy: 0.7353 - val_loss: 0.5546 - val_accuracy: 0.7720\n",
      "Epoch 2/100\n",
      "469/469 [==============================] - 1s 3ms/step - loss: 0.5351 - accuracy: 0.7823 - val_loss: 0.5169 - val_accuracy: 0.7927\n",
      "Epoch 3/100\n",
      "469/469 [==============================] - 2s 4ms/step - loss: 0.5057 - accuracy: 0.7931 - val_loss: 0.4969 - val_accuracy: 0.7932\n",
      "Epoch 4/100\n",
      "469/469 [==============================] - 1s 3ms/step - loss: 0.4869 - accuracy: 0.7978 - val_loss: 0.4835 - val_accuracy: 0.7958\n",
      "Epoch 5/100\n",
      "469/469 [==============================] - 2s 4ms/step - loss: 0.4723 - accuracy: 0.7987 - val_loss: 0.4732 - val_accuracy: 0.7958\n",
      "Epoch 6/100\n",
      "469/469 [==============================] - 2s 4ms/step - loss: 0.4609 - accuracy: 0.7993 - val_loss: 0.4657 - val_accuracy: 0.7962\n",
      "Epoch 7/100\n",
      "469/469 [==============================] - 2s 4ms/step - loss: 0.4510 - accuracy: 0.8034 - val_loss: 0.4593 - val_accuracy: 0.7988\n",
      "Epoch 8/100\n",
      "469/469 [==============================] - 2s 4ms/step - loss: 0.4421 - accuracy: 0.8087 - val_loss: 0.4545 - val_accuracy: 0.8048\n",
      "Epoch 9/100\n",
      "469/469 [==============================] - 2s 3ms/step - loss: 0.4354 - accuracy: 0.8145 - val_loss: 0.4510 - val_accuracy: 0.8057\n",
      "Epoch 10/100\n",
      "469/469 [==============================] - 2s 4ms/step - loss: 0.4302 - accuracy: 0.8168 - val_loss: 0.4484 - val_accuracy: 0.8079\n",
      "Epoch 11/100\n",
      "469/469 [==============================] - 2s 3ms/step - loss: 0.4260 - accuracy: 0.8200 - val_loss: 0.4462 - val_accuracy: 0.8061\n",
      "Epoch 12/100\n",
      "469/469 [==============================] - 2s 4ms/step - loss: 0.4226 - accuracy: 0.8213 - val_loss: 0.4443 - val_accuracy: 0.8074\n",
      "Epoch 13/100\n",
      "469/469 [==============================] - 1s 3ms/step - loss: 0.4196 - accuracy: 0.8217 - val_loss: 0.4427 - val_accuracy: 0.8087\n",
      "Epoch 14/100\n",
      "469/469 [==============================] - 1s 3ms/step - loss: 0.4172 - accuracy: 0.8245 - val_loss: 0.4410 - val_accuracy: 0.8096\n",
      "Epoch 15/100\n",
      "469/469 [==============================] - 1s 3ms/step - loss: 0.4149 - accuracy: 0.8255 - val_loss: 0.4398 - val_accuracy: 0.8092\n",
      "Epoch 16/100\n",
      "469/469 [==============================] - 1s 3ms/step - loss: 0.4131 - accuracy: 0.8253 - val_loss: 0.4385 - val_accuracy: 0.8109\n",
      "Epoch 17/100\n",
      "469/469 [==============================] - 2s 4ms/step - loss: 0.4116 - accuracy: 0.8273 - val_loss: 0.4374 - val_accuracy: 0.8118\n",
      "Epoch 18/100\n",
      "469/469 [==============================] - 2s 4ms/step - loss: 0.4101 - accuracy: 0.8281 - val_loss: 0.4361 - val_accuracy: 0.8118\n",
      "Epoch 19/100\n",
      "469/469 [==============================] - 2s 3ms/step - loss: 0.4089 - accuracy: 0.8270 - val_loss: 0.4349 - val_accuracy: 0.8122\n",
      "Epoch 20/100\n",
      "469/469 [==============================] - 2s 3ms/step - loss: 0.4076 - accuracy: 0.8292 - val_loss: 0.4339 - val_accuracy: 0.8139\n",
      "Epoch 21/100\n",
      "469/469 [==============================] - 1s 3ms/step - loss: 0.4065 - accuracy: 0.8294 - val_loss: 0.4327 - val_accuracy: 0.8148\n",
      "Epoch 22/100\n",
      "469/469 [==============================] - 2s 3ms/step - loss: 0.4053 - accuracy: 0.8302 - val_loss: 0.4317 - val_accuracy: 0.8152\n",
      "Epoch 23/100\n",
      "469/469 [==============================] - 2s 4ms/step - loss: 0.4042 - accuracy: 0.8300 - val_loss: 0.4304 - val_accuracy: 0.8165\n",
      "Epoch 24/100\n",
      "469/469 [==============================] - 1s 3ms/step - loss: 0.4031 - accuracy: 0.8298 - val_loss: 0.4295 - val_accuracy: 0.8157\n",
      "Epoch 25/100\n",
      "469/469 [==============================] - 1s 3ms/step - loss: 0.4019 - accuracy: 0.8292 - val_loss: 0.4283 - val_accuracy: 0.8174\n",
      "Epoch 26/100\n",
      "469/469 [==============================] - 1s 3ms/step - loss: 0.4007 - accuracy: 0.8290 - val_loss: 0.4272 - val_accuracy: 0.8170\n",
      "Epoch 27/100\n",
      "469/469 [==============================] - 1s 3ms/step - loss: 0.3995 - accuracy: 0.8307 - val_loss: 0.4257 - val_accuracy: 0.8187\n",
      "Epoch 28/100\n",
      "469/469 [==============================] - 1s 3ms/step - loss: 0.3984 - accuracy: 0.8305 - val_loss: 0.4245 - val_accuracy: 0.8200\n",
      "Epoch 29/100\n",
      "469/469 [==============================] - 2s 3ms/step - loss: 0.3972 - accuracy: 0.8315 - val_loss: 0.4232 - val_accuracy: 0.8204\n",
      "Epoch 30/100\n",
      "469/469 [==============================] - 2s 3ms/step - loss: 0.3960 - accuracy: 0.8319 - val_loss: 0.4222 - val_accuracy: 0.8217\n",
      "Epoch 31/100\n",
      "469/469 [==============================] - 1s 3ms/step - loss: 0.3948 - accuracy: 0.8324 - val_loss: 0.4207 - val_accuracy: 0.8213\n",
      "Epoch 32/100\n",
      "469/469 [==============================] - 2s 4ms/step - loss: 0.3935 - accuracy: 0.8334 - val_loss: 0.4195 - val_accuracy: 0.8217\n",
      "Epoch 33/100\n",
      "469/469 [==============================] - 2s 4ms/step - loss: 0.3922 - accuracy: 0.8337 - val_loss: 0.4182 - val_accuracy: 0.8239\n",
      "Epoch 34/100\n",
      "469/469 [==============================] - 2s 3ms/step - loss: 0.3906 - accuracy: 0.8347 - val_loss: 0.4171 - val_accuracy: 0.8243\n",
      "Epoch 35/100\n",
      "469/469 [==============================] - 2s 3ms/step - loss: 0.3889 - accuracy: 0.8366 - val_loss: 0.4158 - val_accuracy: 0.8256\n",
      "Epoch 36/100\n",
      "469/469 [==============================] - 2s 3ms/step - loss: 0.3873 - accuracy: 0.8375 - val_loss: 0.4144 - val_accuracy: 0.8278\n",
      "Epoch 37/100\n",
      "469/469 [==============================] - 2s 3ms/step - loss: 0.3855 - accuracy: 0.8388 - val_loss: 0.4130 - val_accuracy: 0.8278\n",
      "Epoch 38/100\n",
      "469/469 [==============================] - 2s 4ms/step - loss: 0.3841 - accuracy: 0.8407 - val_loss: 0.4115 - val_accuracy: 0.8286\n",
      "Epoch 39/100\n",
      "469/469 [==============================] - 1s 3ms/step - loss: 0.3825 - accuracy: 0.8428 - val_loss: 0.4100 - val_accuracy: 0.8304\n",
      "Epoch 40/100\n",
      "469/469 [==============================] - 1s 3ms/step - loss: 0.3809 - accuracy: 0.8428 - val_loss: 0.4086 - val_accuracy: 0.8321\n",
      "Epoch 41/100\n",
      "469/469 [==============================] - 1s 3ms/step - loss: 0.3792 - accuracy: 0.8433 - val_loss: 0.4071 - val_accuracy: 0.8321\n",
      "Epoch 42/100\n",
      "469/469 [==============================] - 1s 3ms/step - loss: 0.3776 - accuracy: 0.8441 - val_loss: 0.4057 - val_accuracy: 0.8330\n",
      "Epoch 43/100\n",
      "469/469 [==============================] - 2s 4ms/step - loss: 0.3761 - accuracy: 0.8462 - val_loss: 0.4042 - val_accuracy: 0.8330\n",
      "Epoch 44/100\n",
      "469/469 [==============================] - 2s 3ms/step - loss: 0.3745 - accuracy: 0.8484 - val_loss: 0.4028 - val_accuracy: 0.8321\n",
      "Epoch 45/100\n",
      "469/469 [==============================] - 2s 3ms/step - loss: 0.3730 - accuracy: 0.8486 - val_loss: 0.4015 - val_accuracy: 0.8330\n",
      "Epoch 46/100\n",
      "469/469 [==============================] - 1s 3ms/step - loss: 0.3715 - accuracy: 0.8488 - val_loss: 0.4003 - val_accuracy: 0.8334\n",
      "Epoch 47/100\n",
      "469/469 [==============================] - 2s 3ms/step - loss: 0.3699 - accuracy: 0.8501 - val_loss: 0.3987 - val_accuracy: 0.8347\n",
      "Epoch 48/100\n",
      "469/469 [==============================] - 2s 4ms/step - loss: 0.3686 - accuracy: 0.8507 - val_loss: 0.3975 - val_accuracy: 0.8356\n",
      "Epoch 49/100\n",
      "469/469 [==============================] - 1s 3ms/step - loss: 0.3671 - accuracy: 0.8514 - val_loss: 0.3963 - val_accuracy: 0.8351\n",
      "Epoch 50/100\n",
      "469/469 [==============================] - 1s 3ms/step - loss: 0.3656 - accuracy: 0.8511 - val_loss: 0.3954 - val_accuracy: 0.8369\n",
      "Epoch 51/100\n",
      "469/469 [==============================] - 2s 3ms/step - loss: 0.3643 - accuracy: 0.8518 - val_loss: 0.3944 - val_accuracy: 0.8377\n",
      "Epoch 52/100\n",
      "469/469 [==============================] - 2s 3ms/step - loss: 0.3629 - accuracy: 0.8526 - val_loss: 0.3932 - val_accuracy: 0.8373\n",
      "Epoch 53/100\n",
      "469/469 [==============================] - 2s 3ms/step - loss: 0.3615 - accuracy: 0.8539 - val_loss: 0.3920 - val_accuracy: 0.8360\n",
      "Epoch 54/100\n",
      "469/469 [==============================] - 2s 4ms/step - loss: 0.3603 - accuracy: 0.8520 - val_loss: 0.3908 - val_accuracy: 0.8356\n",
      "Epoch 55/100\n",
      "469/469 [==============================] - 2s 4ms/step - loss: 0.3589 - accuracy: 0.8522 - val_loss: 0.3899 - val_accuracy: 0.8377\n",
      "Epoch 56/100\n",
      "469/469 [==============================] - 2s 4ms/step - loss: 0.3579 - accuracy: 0.8535 - val_loss: 0.3888 - val_accuracy: 0.8356\n",
      "Epoch 57/100\n",
      "469/469 [==============================] - 2s 3ms/step - loss: 0.3568 - accuracy: 0.8548 - val_loss: 0.3876 - val_accuracy: 0.8351\n"
     ]
    },
    {
     "name": "stdout",
     "output_type": "stream",
     "text": [
      "Epoch 58/100\n",
      "469/469 [==============================] - 2s 3ms/step - loss: 0.3556 - accuracy: 0.8558 - val_loss: 0.3868 - val_accuracy: 0.8386\n",
      "Epoch 59/100\n",
      "469/469 [==============================] - 1s 3ms/step - loss: 0.3547 - accuracy: 0.8560 - val_loss: 0.3856 - val_accuracy: 0.8364\n",
      "Epoch 60/100\n",
      "469/469 [==============================] - 2s 3ms/step - loss: 0.3537 - accuracy: 0.8575 - val_loss: 0.3847 - val_accuracy: 0.8377\n",
      "Epoch 61/100\n",
      "469/469 [==============================] - 2s 3ms/step - loss: 0.3528 - accuracy: 0.8565 - val_loss: 0.3841 - val_accuracy: 0.8377\n",
      "Epoch 62/100\n",
      "469/469 [==============================] - 2s 4ms/step - loss: 0.3519 - accuracy: 0.8563 - val_loss: 0.3830 - val_accuracy: 0.8382\n",
      "Epoch 63/100\n",
      "469/469 [==============================] - 2s 3ms/step - loss: 0.3511 - accuracy: 0.8569 - val_loss: 0.3824 - val_accuracy: 0.8382\n",
      "Epoch 64/100\n",
      "469/469 [==============================] - 1s 3ms/step - loss: 0.3503 - accuracy: 0.8580 - val_loss: 0.3817 - val_accuracy: 0.8386\n",
      "Epoch 65/100\n",
      "469/469 [==============================] - 1s 3ms/step - loss: 0.3497 - accuracy: 0.8573 - val_loss: 0.3810 - val_accuracy: 0.8390\n",
      "Epoch 66/100\n",
      "469/469 [==============================] - 1s 3ms/step - loss: 0.3491 - accuracy: 0.8575 - val_loss: 0.3804 - val_accuracy: 0.8395\n",
      "Epoch 67/100\n",
      "469/469 [==============================] - 1s 3ms/step - loss: 0.3486 - accuracy: 0.8584 - val_loss: 0.3799 - val_accuracy: 0.8390\n",
      "Epoch 68/100\n",
      "469/469 [==============================] - 1s 3ms/step - loss: 0.3478 - accuracy: 0.8588 - val_loss: 0.3791 - val_accuracy: 0.8421\n",
      "Epoch 69/100\n",
      "469/469 [==============================] - 1s 3ms/step - loss: 0.3474 - accuracy: 0.8580 - val_loss: 0.3789 - val_accuracy: 0.8421\n",
      "Epoch 70/100\n",
      "469/469 [==============================] - 1s 3ms/step - loss: 0.3469 - accuracy: 0.8582 - val_loss: 0.3785 - val_accuracy: 0.8399\n",
      "Epoch 71/100\n",
      "469/469 [==============================] - 2s 3ms/step - loss: 0.3462 - accuracy: 0.8592 - val_loss: 0.3781 - val_accuracy: 0.8403\n",
      "Epoch 72/100\n",
      "469/469 [==============================] - 1s 3ms/step - loss: 0.3459 - accuracy: 0.8580 - val_loss: 0.3777 - val_accuracy: 0.8421\n",
      "Epoch 73/100\n",
      "469/469 [==============================] - 1s 3ms/step - loss: 0.3453 - accuracy: 0.8582 - val_loss: 0.3772 - val_accuracy: 0.8416\n",
      "Epoch 74/100\n",
      "469/469 [==============================] - 1s 3ms/step - loss: 0.3449 - accuracy: 0.8582 - val_loss: 0.3767 - val_accuracy: 0.8416\n",
      "Epoch 75/100\n",
      "469/469 [==============================] - 2s 4ms/step - loss: 0.3445 - accuracy: 0.8569 - val_loss: 0.3762 - val_accuracy: 0.8412\n",
      "Epoch 76/100\n",
      "469/469 [==============================] - 2s 3ms/step - loss: 0.3443 - accuracy: 0.8586 - val_loss: 0.3761 - val_accuracy: 0.8429\n",
      "Epoch 77/100\n",
      "469/469 [==============================] - 1s 3ms/step - loss: 0.3439 - accuracy: 0.8582 - val_loss: 0.3759 - val_accuracy: 0.8451\n",
      "Epoch 78/100\n",
      "469/469 [==============================] - 1s 3ms/step - loss: 0.3436 - accuracy: 0.8582 - val_loss: 0.3755 - val_accuracy: 0.8442\n",
      "Epoch 79/100\n",
      "469/469 [==============================] - 2s 3ms/step - loss: 0.3433 - accuracy: 0.8575 - val_loss: 0.3749 - val_accuracy: 0.8447\n",
      "Epoch 80/100\n",
      "469/469 [==============================] - 2s 3ms/step - loss: 0.3430 - accuracy: 0.8590 - val_loss: 0.3750 - val_accuracy: 0.8464\n",
      "Epoch 81/100\n",
      "469/469 [==============================] - 1s 3ms/step - loss: 0.3427 - accuracy: 0.8578 - val_loss: 0.3746 - val_accuracy: 0.8468\n",
      "Epoch 82/100\n",
      "469/469 [==============================] - 1s 3ms/step - loss: 0.3425 - accuracy: 0.8580 - val_loss: 0.3740 - val_accuracy: 0.8455\n",
      "Epoch 83/100\n",
      "469/469 [==============================] - 1s 3ms/step - loss: 0.3423 - accuracy: 0.8599 - val_loss: 0.3737 - val_accuracy: 0.8473\n",
      "Epoch 84/100\n",
      "469/469 [==============================] - 1s 3ms/step - loss: 0.3420 - accuracy: 0.8590 - val_loss: 0.3735 - val_accuracy: 0.8460\n",
      "Epoch 85/100\n",
      "469/469 [==============================] - 1s 3ms/step - loss: 0.3418 - accuracy: 0.8603 - val_loss: 0.3735 - val_accuracy: 0.8473\n",
      "Epoch 86/100\n",
      "469/469 [==============================] - 1s 3ms/step - loss: 0.3412 - accuracy: 0.8607 - val_loss: 0.3731 - val_accuracy: 0.8447\n",
      "Epoch 87/100\n",
      "469/469 [==============================] - 1s 3ms/step - loss: 0.3410 - accuracy: 0.8597 - val_loss: 0.3735 - val_accuracy: 0.8490\n",
      "Epoch 88/100\n",
      "469/469 [==============================] - 1s 3ms/step - loss: 0.3410 - accuracy: 0.8603 - val_loss: 0.3728 - val_accuracy: 0.8468\n",
      "Epoch 89/100\n",
      "469/469 [==============================] - 1s 3ms/step - loss: 0.3407 - accuracy: 0.8610 - val_loss: 0.3727 - val_accuracy: 0.8460\n",
      "Epoch 90/100\n",
      "469/469 [==============================] - 1s 3ms/step - loss: 0.3405 - accuracy: 0.8603 - val_loss: 0.3724 - val_accuracy: 0.8477\n",
      "Epoch 91/100\n",
      "469/469 [==============================] - 1s 3ms/step - loss: 0.3404 - accuracy: 0.8599 - val_loss: 0.3722 - val_accuracy: 0.8477\n",
      "Epoch 92/100\n",
      "469/469 [==============================] - 1s 3ms/step - loss: 0.3402 - accuracy: 0.8601 - val_loss: 0.3721 - val_accuracy: 0.8468\n",
      "Epoch 93/100\n",
      "469/469 [==============================] - 1s 3ms/step - loss: 0.3398 - accuracy: 0.8612 - val_loss: 0.3716 - val_accuracy: 0.8477\n",
      "Epoch 94/100\n",
      "469/469 [==============================] - 2s 3ms/step - loss: 0.3398 - accuracy: 0.8610 - val_loss: 0.3713 - val_accuracy: 0.8468\n",
      "Epoch 95/100\n",
      "469/469 [==============================] - 2s 3ms/step - loss: 0.3396 - accuracy: 0.8612 - val_loss: 0.3712 - val_accuracy: 0.8468\n",
      "Epoch 96/100\n",
      "469/469 [==============================] - 2s 4ms/step - loss: 0.3394 - accuracy: 0.8618 - val_loss: 0.3709 - val_accuracy: 0.8486\n",
      "Epoch 97/100\n",
      "469/469 [==============================] - 2s 3ms/step - loss: 0.3391 - accuracy: 0.8616 - val_loss: 0.3707 - val_accuracy: 0.8490\n",
      "Epoch 98/100\n",
      "469/469 [==============================] - 2s 4ms/step - loss: 0.3391 - accuracy: 0.8595 - val_loss: 0.3706 - val_accuracy: 0.8477\n",
      "Epoch 99/100\n",
      "469/469 [==============================] - 2s 3ms/step - loss: 0.3388 - accuracy: 0.8607 - val_loss: 0.3702 - val_accuracy: 0.8490\n",
      "Epoch 100/100\n",
      "469/469 [==============================] - 2s 3ms/step - loss: 0.3388 - accuracy: 0.8624 - val_loss: 0.3699 - val_accuracy: 0.8490\n"
     ]
    },
    {
     "data": {
      "text/plain": [
       "<keras.callbacks.History at 0x1b7fe06fb50>"
      ]
     },
     "execution_count": 17,
     "metadata": {},
     "output_type": "execute_result"
    }
   ],
   "source": [
    "classifier.fit(x_train,y_train,validation_split=0.33,batch_size=10,epochs=100)\n"
   ]
  },
  {
   "cell_type": "code",
   "execution_count": 18,
   "metadata": {
    "colab": {
     "base_uri": "https://localhost:8080/"
    },
    "id": "cVsgDtAIYk3P",
    "outputId": "ac8908b2-9258-4a2f-84fd-39ac0b68b57a"
   },
   "outputs": [],
   "source": [
    "classifier.save(\"churn.h5\")"
   ]
  },
  {
   "cell_type": "code",
   "execution_count": null,
   "metadata": {},
   "outputs": [],
   "source": []
  }
 ],
 "metadata": {
  "colab": {
   "name": "Untitled2.ipynb",
   "provenance": []
  },
  "kernelspec": {
   "display_name": "Python 3 (ipykernel)",
   "language": "python",
   "name": "python3"
  },
  "language_info": {
   "codemirror_mode": {
    "name": "ipython",
    "version": 3
   },
   "file_extension": ".py",
   "mimetype": "text/x-python",
   "name": "python",
   "nbconvert_exporter": "python",
   "pygments_lexer": "ipython3",
   "version": "3.9.12"
  }
 },
 "nbformat": 4,
 "nbformat_minor": 1
}
